{
  "cells": [
    {
      "cell_type": "markdown",
      "metadata": {
        "id": "view-in-github",
        "colab_type": "text"
      },
      "source": [
        "<a href=\"https://colab.research.google.com/github/ShreyaPMohanty6/Lunar-Landing/blob/main/Deep_Q_Learning_for_Lunar_Landing_Shreya_Mohanty.ipynb\" target=\"_parent\"><img src=\"https://colab.research.google.com/assets/colab-badge.svg\" alt=\"Open In Colab\"/></a>"
      ]
    },
    {
      "cell_type": "markdown",
      "metadata": {
        "id": "LbZcI9ZXHl3a"
      },
      "source": [
        "# Deep Q-Learning for Lunar Landing"
      ]
    },
    {
      "cell_type": "markdown",
      "metadata": {
        "id": "E8yPRjteXgPb"
      },
      "source": [
        "## Part 0 - Installing the required packages and importing the libraries"
      ]
    },
    {
      "cell_type": "markdown",
      "metadata": {
        "id": "slEm5teGWjWU"
      },
      "source": [
        "### Installing Gymnasium"
      ]
    },
    {
      "cell_type": "code",
      "execution_count": null,
      "metadata": {
        "id": "dbnq3XpoKa_7",
        "colab": {
          "base_uri": "https://localhost:8080/"
        },
        "outputId": "e6183c7a-759e-4baa-9d3c-3eb8c9c39b4e"
      },
      "outputs": [
        {
          "output_type": "stream",
          "name": "stdout",
          "text": [
            "Collecting gymnasium\n",
            "  Downloading gymnasium-0.29.1-py3-none-any.whl (953 kB)\n",
            "\u001b[2K     \u001b[90m━━━━━━━━━━━━━━━━━━━━━━━━━━━━━━━━━━━━━━━━\u001b[0m \u001b[32m953.9/953.9 kB\u001b[0m \u001b[31m10.2 MB/s\u001b[0m eta \u001b[36m0:00:00\u001b[0m\n",
            "\u001b[?25hRequirement already satisfied: numpy>=1.21.0 in /usr/local/lib/python3.10/dist-packages (from gymnasium) (1.25.2)\n",
            "Requirement already satisfied: cloudpickle>=1.2.0 in /usr/local/lib/python3.10/dist-packages (from gymnasium) (2.2.1)\n",
            "Requirement already satisfied: typing-extensions>=4.3.0 in /usr/local/lib/python3.10/dist-packages (from gymnasium) (4.12.1)\n",
            "Collecting farama-notifications>=0.0.1 (from gymnasium)\n",
            "  Downloading Farama_Notifications-0.0.4-py3-none-any.whl (2.5 kB)\n",
            "Installing collected packages: farama-notifications, gymnasium\n",
            "Successfully installed farama-notifications-0.0.4 gymnasium-0.29.1\n",
            "Requirement already satisfied: gymnasium[accept-rom-license,atari] in /usr/local/lib/python3.10/dist-packages (0.29.1)\n",
            "Requirement already satisfied: numpy>=1.21.0 in /usr/local/lib/python3.10/dist-packages (from gymnasium[accept-rom-license,atari]) (1.25.2)\n",
            "Requirement already satisfied: cloudpickle>=1.2.0 in /usr/local/lib/python3.10/dist-packages (from gymnasium[accept-rom-license,atari]) (2.2.1)\n",
            "Requirement already satisfied: typing-extensions>=4.3.0 in /usr/local/lib/python3.10/dist-packages (from gymnasium[accept-rom-license,atari]) (4.12.1)\n",
            "Requirement already satisfied: farama-notifications>=0.0.1 in /usr/local/lib/python3.10/dist-packages (from gymnasium[accept-rom-license,atari]) (0.0.4)\n",
            "Collecting autorom[accept-rom-license]~=0.4.2 (from gymnasium[accept-rom-license,atari])\n",
            "  Downloading AutoROM-0.4.2-py3-none-any.whl (16 kB)\n",
            "Collecting shimmy[atari]<1.0,>=0.1.0 (from gymnasium[accept-rom-license,atari])\n",
            "  Downloading Shimmy-0.2.1-py3-none-any.whl (25 kB)\n",
            "Requirement already satisfied: click in /usr/local/lib/python3.10/dist-packages (from autorom[accept-rom-license]~=0.4.2->gymnasium[accept-rom-license,atari]) (8.1.7)\n",
            "Requirement already satisfied: requests in /usr/local/lib/python3.10/dist-packages (from autorom[accept-rom-license]~=0.4.2->gymnasium[accept-rom-license,atari]) (2.31.0)\n",
            "Requirement already satisfied: tqdm in /usr/local/lib/python3.10/dist-packages (from autorom[accept-rom-license]~=0.4.2->gymnasium[accept-rom-license,atari]) (4.66.4)\n",
            "Collecting AutoROM.accept-rom-license (from autorom[accept-rom-license]~=0.4.2->gymnasium[accept-rom-license,atari])\n",
            "  Downloading AutoROM.accept-rom-license-0.6.1.tar.gz (434 kB)\n",
            "\u001b[2K     \u001b[90m━━━━━━━━━━━━━━━━━━━━━━━━━━━━━━━━━━━━━━━━\u001b[0m \u001b[32m434.7/434.7 kB\u001b[0m \u001b[31m9.5 MB/s\u001b[0m eta \u001b[36m0:00:00\u001b[0m\n",
            "\u001b[?25h  Installing build dependencies ... \u001b[?25l\u001b[?25hdone\n",
            "  Getting requirements to build wheel ... \u001b[?25l\u001b[?25hdone\n",
            "  Preparing metadata (pyproject.toml) ... \u001b[?25l\u001b[?25hdone\n",
            "Collecting ale-py~=0.8.1 (from shimmy[atari]<1.0,>=0.1.0->gymnasium[accept-rom-license,atari])\n",
            "  Downloading ale_py-0.8.1-cp310-cp310-manylinux_2_17_x86_64.manylinux2014_x86_64.whl (1.7 MB)\n",
            "\u001b[2K     \u001b[90m━━━━━━━━━━━━━━━━━━━━━━━━━━━━━━━━━━━━━━━━\u001b[0m \u001b[32m1.7/1.7 MB\u001b[0m \u001b[31m7.2 MB/s\u001b[0m eta \u001b[36m0:00:00\u001b[0m\n",
            "\u001b[?25hRequirement already satisfied: importlib-resources in /usr/local/lib/python3.10/dist-packages (from ale-py~=0.8.1->shimmy[atari]<1.0,>=0.1.0->gymnasium[accept-rom-license,atari]) (6.4.0)\n",
            "Requirement already satisfied: charset-normalizer<4,>=2 in /usr/local/lib/python3.10/dist-packages (from requests->autorom[accept-rom-license]~=0.4.2->gymnasium[accept-rom-license,atari]) (3.3.2)\n",
            "Requirement already satisfied: idna<4,>=2.5 in /usr/local/lib/python3.10/dist-packages (from requests->autorom[accept-rom-license]~=0.4.2->gymnasium[accept-rom-license,atari]) (3.7)\n",
            "Requirement already satisfied: urllib3<3,>=1.21.1 in /usr/local/lib/python3.10/dist-packages (from requests->autorom[accept-rom-license]~=0.4.2->gymnasium[accept-rom-license,atari]) (2.0.7)\n",
            "Requirement already satisfied: certifi>=2017.4.17 in /usr/local/lib/python3.10/dist-packages (from requests->autorom[accept-rom-license]~=0.4.2->gymnasium[accept-rom-license,atari]) (2024.6.2)\n",
            "Building wheels for collected packages: AutoROM.accept-rom-license\n",
            "  Building wheel for AutoROM.accept-rom-license (pyproject.toml) ... \u001b[?25l\u001b[?25hdone\n",
            "  Created wheel for AutoROM.accept-rom-license: filename=AutoROM.accept_rom_license-0.6.1-py3-none-any.whl size=446659 sha256=a4293f85d1330b335496e7f73048887018df9ee7b575e23406594672a0968269\n",
            "  Stored in directory: /root/.cache/pip/wheels/6b/1b/ef/a43ff1a2f1736d5711faa1ba4c1f61be1131b8899e6a057811\n",
            "Successfully built AutoROM.accept-rom-license\n",
            "Installing collected packages: ale-py, shimmy, AutoROM.accept-rom-license, autorom\n",
            "Successfully installed AutoROM.accept-rom-license-0.6.1 ale-py-0.8.1 autorom-0.4.2 shimmy-0.2.1\n",
            "Reading package lists... Done\n",
            "Building dependency tree... Done\n",
            "Reading state information... Done\n",
            "The following additional packages will be installed:\n",
            "  swig4.0\n",
            "Suggested packages:\n",
            "  swig-doc swig-examples swig4.0-examples swig4.0-doc\n",
            "The following NEW packages will be installed:\n",
            "  swig swig4.0\n",
            "0 upgraded, 2 newly installed, 0 to remove and 45 not upgraded.\n",
            "Need to get 1,116 kB of archives.\n",
            "After this operation, 5,542 kB of additional disk space will be used.\n",
            "Get:1 http://archive.ubuntu.com/ubuntu jammy/universe amd64 swig4.0 amd64 4.0.2-1ubuntu1 [1,110 kB]\n",
            "Get:2 http://archive.ubuntu.com/ubuntu jammy/universe amd64 swig all 4.0.2-1ubuntu1 [5,632 B]\n",
            "Fetched 1,116 kB in 2s (511 kB/s)\n",
            "Selecting previously unselected package swig4.0.\n",
            "(Reading database ... 121913 files and directories currently installed.)\n",
            "Preparing to unpack .../swig4.0_4.0.2-1ubuntu1_amd64.deb ...\n",
            "Unpacking swig4.0 (4.0.2-1ubuntu1) ...\n",
            "Selecting previously unselected package swig.\n",
            "Preparing to unpack .../swig_4.0.2-1ubuntu1_all.deb ...\n",
            "Unpacking swig (4.0.2-1ubuntu1) ...\n",
            "Setting up swig4.0 (4.0.2-1ubuntu1) ...\n",
            "Setting up swig (4.0.2-1ubuntu1) ...\n",
            "Processing triggers for man-db (2.10.2-1) ...\n",
            "Requirement already satisfied: gymnasium[box2d] in /usr/local/lib/python3.10/dist-packages (0.29.1)\n",
            "Requirement already satisfied: numpy>=1.21.0 in /usr/local/lib/python3.10/dist-packages (from gymnasium[box2d]) (1.25.2)\n",
            "Requirement already satisfied: cloudpickle>=1.2.0 in /usr/local/lib/python3.10/dist-packages (from gymnasium[box2d]) (2.2.1)\n",
            "Requirement already satisfied: typing-extensions>=4.3.0 in /usr/local/lib/python3.10/dist-packages (from gymnasium[box2d]) (4.12.1)\n",
            "Requirement already satisfied: farama-notifications>=0.0.1 in /usr/local/lib/python3.10/dist-packages (from gymnasium[box2d]) (0.0.4)\n",
            "Collecting box2d-py==2.3.5 (from gymnasium[box2d])\n",
            "  Downloading box2d-py-2.3.5.tar.gz (374 kB)\n",
            "\u001b[2K     \u001b[90m━━━━━━━━━━━━━━━━━━━━━━━━━━━━━━━━━━━━━━━━\u001b[0m \u001b[32m374.4/374.4 kB\u001b[0m \u001b[31m5.8 MB/s\u001b[0m eta \u001b[36m0:00:00\u001b[0m\n",
            "\u001b[?25h  Preparing metadata (setup.py) ... \u001b[?25l\u001b[?25hdone\n",
            "Requirement already satisfied: pygame>=2.1.3 in /usr/local/lib/python3.10/dist-packages (from gymnasium[box2d]) (2.5.2)\n",
            "Collecting swig==4.* (from gymnasium[box2d])\n",
            "  Downloading swig-4.2.1-py2.py3-none-manylinux_2_5_x86_64.manylinux1_x86_64.whl (1.9 MB)\n",
            "\u001b[2K     \u001b[90m━━━━━━━━━━━━━━━━━━━━━━━━━━━━━━━━━━━━━━━━\u001b[0m \u001b[32m1.9/1.9 MB\u001b[0m \u001b[31m40.7 MB/s\u001b[0m eta \u001b[36m0:00:00\u001b[0m\n",
            "\u001b[?25hBuilding wheels for collected packages: box2d-py\n",
            "  Building wheel for box2d-py (setup.py) ... \u001b[?25l\u001b[?25hdone\n",
            "  Created wheel for box2d-py: filename=box2d_py-2.3.5-cp310-cp310-linux_x86_64.whl size=2349117 sha256=a5e4ee3eea637438ad78d3ee6207294514f5e50d49e92631cbb9a9b440cb6abc\n",
            "  Stored in directory: /root/.cache/pip/wheels/db/8f/6a/eaaadf056fba10a98d986f6dce954e6201ba3126926fc5ad9e\n",
            "Successfully built box2d-py\n",
            "Installing collected packages: swig, box2d-py\n",
            "Successfully installed box2d-py-2.3.5 swig-4.2.1\n"
          ]
        }
      ],
      "source": [
        "!pip install gymnasium\n",
        "!pip install \"gymnasium[atari, accept-rom-license]\"\n",
        "!apt-get install -y swig\n",
        "!pip install gymnasium[box2d]"
      ]
    },
    {
      "cell_type": "markdown",
      "metadata": {
        "id": "brqiMN3UW9T9"
      },
      "source": [
        "### Importing the libraries"
      ]
    },
    {
      "cell_type": "code",
      "execution_count": null,
      "metadata": {
        "id": "mZaKXP_aMl9O"
      },
      "outputs": [],
      "source": [
        "import os\n",
        "import random\n",
        "import numpy as np\n",
        "import torch\n",
        "import torch.nn as nn\n",
        "import torch.optim as optim\n",
        "import torch.nn.functional as F\n",
        "import torch.autograd as autograd\n",
        "from torch.autograd import Variable\n",
        "from collections import deque, namedtuple"
      ]
    },
    {
      "cell_type": "markdown",
      "metadata": {
        "id": "EzlDKXvkXzGI"
      },
      "source": [
        "## Part 1 - Building the AI"
      ]
    },
    {
      "cell_type": "markdown",
      "metadata": {
        "id": "UtG6Zc83YYy3"
      },
      "source": [
        "### Creating the architecture of the Neural Network"
      ]
    },
    {
      "cell_type": "code",
      "source": [
        "class neural_network(nn.Module):\n",
        "    def __init__(self, state_size, actions_size, seed = 42):\n",
        "        super(neural_network, self).__init__()\n",
        "        self.seed = torch.manual_seed(seed)\n",
        "        self.fc1 = nn.Linear(state_size, 64)  #Connection between the input layer and first fully connected layer\n",
        "        self.fc2 = nn.Linear(64, 64)          #Connection between the fc1 and fc2\n",
        "        self.fc3 = nn.Linear(64, actions_size) #Connection between the fc2 and action layer\n",
        "\n",
        "    #building Signal that will propagate through the layers\n",
        "    def forward(self, state):\n",
        "        x = F.relu(self.fc1(state))  #By rectifier activation function\n",
        "        x = F.relu(self.fc2(x))\n",
        "        x = self.fc3(x)\n",
        "        return x"
      ],
      "metadata": {
        "id": "iON2rjDmYuX1"
      },
      "execution_count": null,
      "outputs": []
    },
    {
      "cell_type": "markdown",
      "metadata": {
        "id": "UxVrBnFWZKb1"
      },
      "source": [
        "## Part 2 - Training the AI"
      ]
    },
    {
      "cell_type": "markdown",
      "metadata": {
        "id": "T364fz9qZb2j"
      },
      "source": [
        "### Setting up the environment"
      ]
    },
    {
      "cell_type": "code",
      "source": [
        "import gymnasium as gym\n",
        "env = gym.make('LunarLander-v2')\n",
        "state_shape = env.observation_space.shape\n",
        "state_size = env.observation_space.shape[0]\n",
        "action_size = env.action_space.n\n",
        "print(\"State Shape\", state_shape)\n",
        "print(\"State Size\", state_size)\n",
        "print(\"Action Size\", action_size)"
      ],
      "metadata": {
        "colab": {
          "base_uri": "https://localhost:8080/"
        },
        "id": "TRd82dsJeU9N",
        "outputId": "70a474a1-9e4d-4c44-8f93-c511f347776c"
      },
      "execution_count": null,
      "outputs": [
        {
          "output_type": "stream",
          "name": "stdout",
          "text": [
            "State Shape (8,)\n",
            "State Size 8\n",
            "Action Size 4\n"
          ]
        }
      ]
    },
    {
      "cell_type": "markdown",
      "metadata": {
        "id": "c_dZmOIvZgj-"
      },
      "source": [
        "### Initializing the hyperparameters"
      ]
    },
    {
      "cell_type": "code",
      "source": [
        "learning_rate = 5e-4\n",
        "discount_factor = 0.99\n",
        "buffer_size = 100000\n",
        "minibatch_size = 100\n",
        "interpolation_parameter = 1e-3"
      ],
      "metadata": {
        "id": "sTBSfTX1g_S3"
      },
      "execution_count": null,
      "outputs": []
    },
    {
      "cell_type": "markdown",
      "metadata": {
        "id": "8hD_Vs-bYnip"
      },
      "source": [
        "### Implementing Experience Replay"
      ]
    },
    {
      "cell_type": "code",
      "source": [
        "class Replaymemory(object):\n",
        "  def __init__(self, capacity):\n",
        "    self.device = torch.device(\"cuda:0\" if torch.cuda.is_available() else \"cpu\")\n",
        "    self.capacity = capacity\n",
        "    self.memory = []\n",
        "\n",
        "  def push(self, event):\n",
        "    self.memory.append(event)\n",
        "    if len(self.memory) > self.capacity:\n",
        "       del self.memory[0]\n",
        "\n",
        "  def sample(self, batch_size):\n",
        "    experiences = random.sample(self.memory, k = batch_size)\n",
        "    states = torch.from_numpy(np.vstack([e[0] for e in experiences if e is not None])).float().to(self.device)\n",
        "    actions = torch.from_numpy(np.vstack([e[1] for e in experiences if e is not None])).long().to(self.device)\n",
        "    rewards = torch.from_numpy(np.vstack([e[2] for e in experiences if e is not None])).float().to(self.device)\n",
        "    next_states = torch.from_numpy(np.vstack([e[3] for e in experiences if e is not None])).float().to(self.device)\n",
        "    dones = torch.from_numpy(np.vstack([e[4] for e in experiences if e is not None]).astype(np.uint8)).float().to(self.device)\n",
        "    return states, next_states, actions, rewards, dones"
      ],
      "metadata": {
        "id": "PopbwL-khYw3"
      },
      "execution_count": null,
      "outputs": []
    },
    {
      "cell_type": "markdown",
      "metadata": {
        "id": "JmEkbFbUY6Jt"
      },
      "source": [
        "### Implementing the DQN class"
      ]
    },
    {
      "cell_type": "code",
      "source": [
        "class Agent():\n",
        "  def __init__(self, state_size, action_size):\n",
        "    self.device = torch.device(\"cuda:0\" if torch.cuda.is_available() else \"cpu\")\n",
        "    self.state_size = state_size\n",
        "    self.action_size = action_size\n",
        "    #Implementing Q learning, comparing Q target and Q local\n",
        "    self.local_Qnetwork = neural_network(state_size, action_size).to(self.device)  #Local Q network will be the one selecting the actions to be implemneted and target Q values are use to train the local Q values\n",
        "    self.target_Qnetwork = neural_network(state_size, action_size).to(self.device)\n",
        "    self.optimizer = optim.Adam(self.local_Qnetwork.parameters(), lr = learning_rate)\n",
        "    self.memory = Replaymemory(buffer_size)\n",
        "    self.t_step = 0\n",
        "\n",
        "  def step(self, state, action, reward, next_state, done):\n",
        "    self.memory.push((state, action, reward, next_state, done))\n",
        "    self.t_step = (self.t_step + 1) % 4 #to repeat every 4 times\n",
        "\n",
        "# Now learing from experience in every 4 steps\n",
        "    if self.t_step == 0:\n",
        "      if len(self.memory.memory) > minibatch_size: #learn from these experiences\n",
        "        experiences = self.memory.sample(100)\n",
        "        self.learn(experiences, discount_factor) #The learning algorithm which is used later on\n",
        "\n",
        "#Act on the basis of the given action in the environment and a given epislon value using epsilon greedy method\n",
        "  def act(self, state, epsilon = 0.):\n",
        "    state = torch.from_numpy(state).float().unsqueeze(0).to(self.device) #to add the batch number of the state within the batch of observations\n",
        "    self.local_Qnetwork.eval() #Setting local Q value to evalution mode\n",
        "    with torch.no_grad():\n",
        "      action_values = self.local_Qnetwork(state)  #making predictions from our Q local netwrok to get the action values\n",
        "    self.local_Qnetwork.train() #setting back to training mode\n",
        "\n",
        "#Epilson Greedy Selection Policy Implementation\n",
        "    if random.random() > epsilon:\n",
        "       return np.argmax(action_values.cpu().data.numpy())\n",
        "    else:\n",
        "       return random.choice(np.arange(self.action_size))\n",
        "\n",
        "#learning algorithm\n",
        "  def learn(self, experiences, gamma):\n",
        "    states, next_states, actions, rewards, dones = experiences\n",
        "    #to get the maximum predicted Q values for next states\n",
        "    next_q_targets = self.target_Qnetwork(next_states).detach().max(1)[0].unsqueeze(1)\n",
        "    q_targets = rewards + discount_factor * next_q_targets * (1 - dones)  #Formula for calculating current Q target\n",
        "    q_expected = self.local_Qnetwork(states).gather(1, actions)    #forward propagating the states from local Q/ Getting Q values from local Q values\n",
        "    loss = F.mse_loss(q_expected, q_targets)   #Calculating the loss from both the values\n",
        "    self.optimizer.zero_grad()\n",
        "    #backpropagating the loss computed to compute the gradient of the loss\n",
        "    q_values = self.local_Qnetwork(states).gather(1, actions)\n",
        "    loss = F.mse_loss(q_values, q_targets)\n",
        "    loss.backward()\n",
        "    #single optimization step to update the model parameters\n",
        "    self.optimizer.step()\n",
        "    #updating the targetting Q values with the local ones\n",
        "    self.soft_update(self.local_Qnetwork, self.target_Qnetwork, interpolation_parameter)\n",
        "\n",
        "  def soft_update(self, local_model, target_model, tau):\n",
        "    for target_param, local_param in zip(target_model.parameters(), local_model.parameters()):\n",
        "      target_param.data.copy_(tau*local_param.data + (1.0-tau)*target_param.data)"
      ],
      "metadata": {
        "id": "2_abnQBBnNQg"
      },
      "execution_count": null,
      "outputs": []
    },
    {
      "cell_type": "markdown",
      "metadata": {
        "id": "o1tZElccZmf6"
      },
      "source": [
        "### Initializing the DQN agent"
      ]
    },
    {
      "cell_type": "code",
      "source": [
        "agent = Agent(state_size, action_size)"
      ],
      "metadata": {
        "id": "2lDnxxVnCVAL"
      },
      "execution_count": null,
      "outputs": []
    },
    {
      "cell_type": "markdown",
      "metadata": {
        "id": "E8v0PtUfaVQp"
      },
      "source": [
        "### Training the DQN agent"
      ]
    },
    {
      "cell_type": "code",
      "source": [
        "number_episodes = 2000  #number of episodes over which the agent will be trained\n",
        "maximum_number_timesteps_per_episode = 1000\n",
        "epsilon_starting_value  = 1.0\n",
        "epsilon_ending_value  = 0.01\n",
        "epsilon_decay_value  = 0.995\n",
        "epsilon = epsilon_starting_value\n",
        "scores_on_100_episodes = deque(maxlen = 100)\n",
        "\n",
        "#Building the intelligence to land on the moon\n",
        "for episode in range(1, number_episodes+1):\n",
        "  state, _ = env.reset()  #reseting the environment for every new episode\n",
        "  score = 0 #Score is the culmulative rewards collected\n",
        "  for t in range(maximum_number_timesteps_per_episode):\n",
        "    action = agent.act(state, epsilon) #Action to be selected\n",
        "    next_state, reward, done, _, _ = env.step(action)\n",
        "    agent.step(state, action, reward, next_state, done)  #this is the actual step which will train the agnet\n",
        "    state = next_state\n",
        "    score += reward\n",
        "    if done:\n",
        "      break\n",
        "\n",
        "  scores_on_100_episodes.append(score)\n",
        "  epsilon = max(epsilon_ending_value, epsilon_decay_value * epsilon) #Decaying the epsilon value\n",
        "\n",
        "  #printing the values\n",
        "  print('\\rEpisode {}\\tAverage Score: {:.2f}'.format(episode, np.mean(scores_on_100_episodes)), end = \"\") #\\r is the dynamic affect which will overreide the info of the prvious episode\n",
        "  if episode % 100 == 0:\n",
        "    print('\\rEpisode {}\\tAverage Score: {:.2f}'.format(episode, np.mean(scores_on_100_episodes)))\n",
        "  if np.mean(scores_on_100_episodes) >= 200.0:\n",
        "    print('\\nEnvironment solved in {:d} episodes!\\tAverage Score: {:.2f}'.format(episode - 100, np.mean(scores_on_100_episodes)))\n",
        "    torch.save(agent.local_Qnetwork.state_dict(), 'checkpoint.pth')\n",
        "    break"
      ],
      "metadata": {
        "colab": {
          "base_uri": "https://localhost:8080/"
        },
        "id": "Pdh2ANvbDrom",
        "outputId": "a66bc2c8-d598-492d-ab33-cdcd77115678"
      },
      "execution_count": null,
      "outputs": [
        {
          "output_type": "stream",
          "name": "stdout",
          "text": [
            "Episode 100\tAverage Score: -97.66\n",
            "Episode 200\tAverage Score: -12.22\n",
            "Episode 300\tAverage Score: 88.32\n",
            "Episode 400\tAverage Score: 194.36\n",
            "Episode 409\tAverage Score: 200.61\n",
            "Environment solved in 309 episodes!\tAverage Score: 200.61\n"
          ]
        }
      ]
    },
    {
      "cell_type": "markdown",
      "metadata": {
        "id": "O8CNwdOTcCoP"
      },
      "source": [
        "## Part 3 - Visualizing the results"
      ]
    },
    {
      "cell_type": "code",
      "execution_count": null,
      "metadata": {
        "id": "cb9nVvU2Okhk",
        "colab": {
          "base_uri": "https://localhost:8080/",
          "height": 459
        },
        "outputId": "52d84e29-a873-4dee-9a17-ce3bcb8b28d5"
      },
      "outputs": [
        {
          "output_type": "stream",
          "name": "stderr",
          "text": [
            "WARNING:imageio_ffmpeg:IMAGEIO FFMPEG_WRITER WARNING: input image is not divisible by macro_block_size=16, resizing from (600, 400) to (608, 400) to ensure video compatibility with most codecs and players. To prevent resizing, make your input image divisible by the macro_block_size or set the macro_block_size to 1 (risking incompatibility).\n"
          ]
        },
        {
          "output_type": "display_data",
          "data": {
            "text/plain": [
              "<IPython.core.display.HTML object>"
            ],
            "text/html": [
              "<video alt=\"test\" autoplay\n",
              "                loop controls style=\"height: 400px;\">\n",
              "                <source src=\"data:video/mp4;base64,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\" type=\"video/mp4\" />\n",
              "             </video>"
            ]
          },
          "metadata": {}
        }
      ],
      "source": [
        "import glob\n",
        "import io\n",
        "import base64\n",
        "import imageio\n",
        "from IPython.display import HTML, display\n",
        "from gym.wrappers.monitoring.video_recorder import VideoRecorder\n",
        "\n",
        "def show_video_of_model(agent, env_name):\n",
        "    env = gym.make(env_name, render_mode='rgb_array')\n",
        "    state, _ = env.reset()\n",
        "    done = False\n",
        "    frames = []\n",
        "    while not done:\n",
        "        frame = env.render()\n",
        "        frames.append(frame)\n",
        "        action = agent.act(state)\n",
        "        state, reward, done, _, _ = env.step(action.item())\n",
        "    env.close()\n",
        "    imageio.mimsave('video.mp4', frames, fps=30)\n",
        "\n",
        "show_video_of_model(agent, 'LunarLander-v2')\n",
        "\n",
        "def show_video():\n",
        "    mp4list = glob.glob('*.mp4')\n",
        "    if len(mp4list) > 0:\n",
        "        mp4 = mp4list[0]\n",
        "        video = io.open(mp4, 'r+b').read()\n",
        "        encoded = base64.b64encode(video)\n",
        "        display(HTML(data='''<video alt=\"test\" autoplay\n",
        "                loop controls style=\"height: 400px;\">\n",
        "                <source src=\"data:video/mp4;base64,{0}\" type=\"video/mp4\" />\n",
        "             </video>'''.format(encoded.decode('ascii'))))\n",
        "    else:\n",
        "        print(\"Could not find video\")\n",
        "\n",
        "show_video()"
      ]
    }
  ],
  "metadata": {
    "colab": {
      "provenance": [],
      "include_colab_link": true
    },
    "kernelspec": {
      "display_name": "Python 3",
      "name": "python3"
    },
    "language_info": {
      "name": "python"
    }
  },
  "nbformat": 4,
  "nbformat_minor": 0
}